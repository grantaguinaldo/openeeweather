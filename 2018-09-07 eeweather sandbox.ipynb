{
 "cells": [
  {
   "cell_type": "code",
   "execution_count": null,
   "metadata": {},
   "outputs": [],
   "source": [
    "import eeweather as ee\n",
    "import json\n",
    "import datetime\n",
    "import pytz\n",
    "import numpy as np\n",
    "import matplotlib.pyplot as plt\n",
    "%matplotlib inline\n",
    "\n",
    "#http://eeweather.openee.io/en/latest/basics.html\n",
    "#https://github.com/openeemeter/eeweather/blob/master/scripts/tutorial.ipynb"
   ]
  },
  {
   "cell_type": "code",
   "execution_count": null,
   "metadata": {},
   "outputs": [],
   "source": [
    "zip_code = '92602'"
   ]
  },
  {
   "cell_type": "code",
   "execution_count": null,
   "metadata": {},
   "outputs": [],
   "source": [
    "lat, lng = ee.zcta_to_lat_long(zip_code)\n",
    "lat, lng"
   ]
  },
  {
   "cell_type": "code",
   "execution_count": null,
   "metadata": {},
   "outputs": [],
   "source": [
    "# Produces a list of stations that are close to the zip code of choice. \n",
    "# This is a Pandas dataframe that can be indexed worked with as a normal Pandas object.\n",
    "# The distances are based on the Euclidean distance (i.e., as the crow flies) between the given (lat, lng) of the project \n",
    "# and the given station. \n",
    "\n",
    "ranked_stations = ee.rank_stations(lat, lng)\n",
    "ranked_stations.head(15)"
   ]
  },
  {
   "cell_type": "code",
   "execution_count": null,
   "metadata": {},
   "outputs": [],
   "source": [
    "ranked_stations['ca_climate_zone'].unique().tolist()"
   ]
  },
  {
   "cell_type": "code",
   "execution_count": null,
   "metadata": {},
   "outputs": [],
   "source": [
    "#Traversing the Pandas dataframe.\n",
    "\n",
    "ranked_stations.iloc[0]"
   ]
  },
  {
   "cell_type": "code",
   "execution_count": null,
   "metadata": {},
   "outputs": [],
   "source": [
    "#Use boolean indexing to sift through a dataframe.  \n",
    "#You can filter to find high quality stations. \n",
    "\n",
    "ranked_stations[ranked_stations['rough_quality'] == 'high'].head(10)"
   ]
  },
  {
   "cell_type": "code",
   "execution_count": null,
   "metadata": {},
   "outputs": [],
   "source": [
    "# Only finds stations that are are California if the cz2010.\n",
    "#Returns the best station for the given zipcode.\n",
    "\n",
    "lat, lng = ee.zcta_to_lat_long('91755')\n",
    "ranked_stations = ee.rank_stations(lat, lng, is_cz2010=True) #You can further filter the stations using positional arguments. \n",
    "station, error = ee.select_station(ranked_stations)\n",
    "station"
   ]
  },
  {
   "cell_type": "code",
   "execution_count": null,
   "metadata": {},
   "outputs": [],
   "source": [
    "#Station is a json object that can be traversed as normal.\n",
    "\n",
    "station.json()"
   ]
  },
  {
   "cell_type": "code",
   "execution_count": null,
   "metadata": {},
   "outputs": [],
   "source": [
    "station.json()['climate_zones']['iecc_moisture_regime']"
   ]
  },
  {
   "cell_type": "code",
   "execution_count": null,
   "metadata": {},
   "outputs": [],
   "source": [
    "ee.plot_station_mapping(lat, lng, station, distance_meters=5000)"
   ]
  },
  {
   "cell_type": "code",
   "execution_count": null,
   "metadata": {},
   "outputs": [],
   "source": [
    "ee.rank_stations()"
   ]
  },
  {
   "cell_type": "code",
   "execution_count": null,
   "metadata": {},
   "outputs": [],
   "source": [
    "start_date = datetime.datetime(2017, 1, 1, tzinfo=pytz.UTC)\n",
    "end_date = datetime.datetime(2017, 12, 31, tzinfo=pytz.UTC)"
   ]
  },
  {
   "cell_type": "code",
   "execution_count": null,
   "metadata": {},
   "outputs": [],
   "source": [
    "temp_c = station.load_cz2010_hourly_temp_data(start_date, end_date)\n",
    "temp_f = temp_c * 1.8 + 32 "
   ]
  },
  {
   "cell_type": "code",
   "execution_count": null,
   "metadata": {},
   "outputs": [],
   "source": [
    "usc_df = temp_f.to_frame(name='temp_f')\n",
    "usc_df.head(10)"
   ]
  },
  {
   "cell_type": "code",
   "execution_count": null,
   "metadata": {},
   "outputs": [],
   "source": [
    "#Send hourly data from dataframe to a CSV file. \n",
    "\n",
    "usc_df.to_csv('t2017_eeweather_91755_cz2010.csv', sep=',', encoding='utf-8')"
   ]
  },
  {
   "cell_type": "code",
   "execution_count": null,
   "metadata": {},
   "outputs": [],
   "source": []
  },
  {
   "cell_type": "code",
   "execution_count": null,
   "metadata": {},
   "outputs": [],
   "source": [
    "import eeweather as ee\n",
    "import json\n",
    "import datetime\n",
    "import pytz\n",
    "import matplotlib.pyplot as plt\n",
    "%matplotlib inline"
   ]
  },
  {
   "cell_type": "code",
   "execution_count": null,
   "metadata": {},
   "outputs": [],
   "source": [
    "lat, lng = ee.zcta_to_lat_long('92602')\n",
    "lat, lng"
   ]
  },
  {
   "cell_type": "code",
   "execution_count": null,
   "metadata": {},
   "outputs": [],
   "source": [
    "ranked_stations = ee.rank_stations(lat, lng, is_cz2010=True)\n",
    "station, error = ee.select_station(ranked_stations)\n",
    "station"
   ]
  },
  {
   "cell_type": "code",
   "execution_count": null,
   "metadata": {},
   "outputs": [],
   "source": [
    "station.json()['name']"
   ]
  },
  {
   "cell_type": "code",
   "execution_count": null,
   "metadata": {},
   "outputs": [],
   "source": [
    "start_date = datetime.datetime(2018, 1, 1, tzinfo=pytz.UTC)\n",
    "end_date = datetime.datetime(2018, 12, 31, tzinfo=pytz.UTC)"
   ]
  },
  {
   "cell_type": "code",
   "execution_count": null,
   "metadata": {},
   "outputs": [],
   "source": [
    "temp_C = station.load_isd_daily_temp_data(start_date, end_date)\n",
    "temp_F = temp_C * 1.8 + 32 \n",
    "ax = temp_F.plot(figsize=(16,4))\n",
    "ax.set_ylabel('Temp (F)')\n",
    "ax.set_xlabel('Month')\n",
    "ax.set_title(\"2018 \" + station.json()['name'])\n",
    "plt.show()"
   ]
  },
  {
   "cell_type": "code",
   "execution_count": null,
   "metadata": {},
   "outputs": [],
   "source": [
    "irvine_18_df = temp_F.to_frame(name='temp_F').head(10)\n",
    "irvine_18_df"
   ]
  },
  {
   "cell_type": "code",
   "execution_count": null,
   "metadata": {},
   "outputs": [],
   "source": [
    "lat, lng = ee.zcta_to_lat_long('91755')\n",
    "ranked_stations = ee.rank_stations(lat, lng, is_cz2010=True)\n",
    "station, error = ee.select_station(ranked_stations)\n",
    "start_date = datetime.datetime(2017, 1, 1, tzinfo=pytz.UTC)\n",
    "end_date = datetime.datetime(2017, 12, 31, tzinfo=pytz.UTC)\n",
    "temp_C = station.load_isd_daily_temp_data(start_date, end_date)\n",
    "temp_F = temp_C * 1.8 + 32 \n",
    "ax = temp_F.plot(figsize=(16,4))\n",
    "ax.set_ylabel('Temp (F)')\n",
    "ax.set_xlabel('Month')\n",
    "ax.set_title(\"2017 \" + station.json()['name'])\n",
    "plt.show()"
   ]
  },
  {
   "cell_type": "code",
   "execution_count": null,
   "metadata": {},
   "outputs": [],
   "source": [
    "usc_df = temp_F.to_frame(name='temp_F').head(10)\n",
    "usc_df"
   ]
  },
  {
   "cell_type": "code",
   "execution_count": null,
   "metadata": {},
   "outputs": [],
   "source": [
    "lat, lng = ee.zcta_to_lat_long('92602')\n",
    "ranked_stations = ee.rank_stations(lat, lng, is_cz2010=True)\n",
    "station, error = ee.select_station(ranked_stations)\n",
    "start_date = datetime.datetime(2017, 1, 1, tzinfo=pytz.UTC)\n",
    "end_date = datetime.datetime(2017, 12, 31, tzinfo=pytz.UTC)\n",
    "temp_C = station.load_isd_daily_temp_data(start_date, end_date)\n",
    "temp_F = temp_C * 1.8 + 32 \n",
    "ax = temp_F.plot(figsize=(16,4))\n",
    "ax.set_ylabel('Temp (F)')\n",
    "ax.set_xlabel('Month')\n",
    "ax.set_title(\"2017 \" + station.json()['name'])\n",
    "plt.show()"
   ]
  },
  {
   "cell_type": "code",
   "execution_count": null,
   "metadata": {},
   "outputs": [],
   "source": [
    "irvine_df = temp_F.to_frame(name='temp_F').head(10)\n",
    "irvine_df"
   ]
  },
  {
   "cell_type": "code",
   "execution_count": null,
   "metadata": {},
   "outputs": [],
   "source": [
    "lat, lng = ee.zcta_to_lat_long('91744')\n",
    "ranked_stations = ee.rank_stations(lat, lng, is_cz2010=True)\n",
    "station, error = ee.select_station(ranked_stations)\n",
    "start_date = datetime.datetime(2017, 1, 1, tzinfo=pytz.UTC)\n",
    "end_date = datetime.datetime(2017, 12, 31, tzinfo=pytz.UTC)\n",
    "temp_C = station.load_isd_daily_temp_data(start_date, end_date)\n",
    "temp_F = temp_C * 1.8 + 32 \n",
    "ax = temp_F.plot(figsize=(16,4))\n",
    "ax.set_ylabel('Temp (F)')\n",
    "ax.set_xlabel('Month')\n",
    "ax.set_title(\"2017 \" + station.json()['name'])\n",
    "plt.show()"
   ]
  },
  {
   "cell_type": "code",
   "execution_count": null,
   "metadata": {},
   "outputs": [],
   "source": [
    "fullerton_df = temp_F.to_frame(name='temp_F').head(10)\n",
    "fullerton_df"
   ]
  },
  {
   "cell_type": "code",
   "execution_count": null,
   "metadata": {},
   "outputs": [],
   "source": [
    "lat, lng = ee.zcta_to_lat_long('93101')\n",
    "ranked_stations = ee.rank_stations(lat, lng, is_cz2010=True)\n",
    "station, error = ee.select_station(ranked_stations)\n",
    "start_date = datetime.datetime(2017, 1, 1, tzinfo=pytz.UTC)\n",
    "end_date = datetime.datetime(2017, 12, 31, tzinfo=pytz.UTC)\n",
    "temp_C = station.load_isd_daily_temp_data(start_date, end_date)\n",
    "temp_F = temp_C * 1.8 + 32 \n",
    "ax = temp_F.plot(figsize=(16,4))\n",
    "ax.set_ylabel('Temp (F)')\n",
    "ax.set_xlabel('Month')\n",
    "ax.set_title(\"2017 \" + station.json()['name'])\n",
    "plt.show()"
   ]
  },
  {
   "cell_type": "code",
   "execution_count": null,
   "metadata": {},
   "outputs": [],
   "source": [
    "sb_df = temp_F.to_frame(name='temp_F').head(10)\n",
    "sb_df"
   ]
  },
  {
   "cell_type": "code",
   "execution_count": null,
   "metadata": {},
   "outputs": [],
   "source": [
    "lat, lng = ee.zcta_to_lat_long('96001')\n",
    "ranked_stations = ee.rank_stations(lat, lng, is_cz2010=True)\n",
    "station, error = ee.select_station(ranked_stations)\n",
    "start_date = datetime.datetime(2017, 1, 1, tzinfo=pytz.UTC)\n",
    "end_date = datetime.datetime(2017, 12, 31, tzinfo=pytz.UTC)\n",
    "temp_C = station.load_isd_daily_temp_data(start_date, end_date)\n",
    "temp_F = temp_C * 1.8 + 32 \n",
    "ax = temp_F.plot(figsize=(16,4))\n",
    "ax.set_ylabel('Temp (F)')\n",
    "ax.set_xlabel('Month')\n",
    "ax.set_title(\"2017 \" + station.json()['name'])\n",
    "plt.show()"
   ]
  },
  {
   "cell_type": "code",
   "execution_count": null,
   "metadata": {},
   "outputs": [],
   "source": [
    "redding_df = temp_F.to_frame(name='temp_F').head(10)\n",
    "redding_df"
   ]
  },
  {
   "cell_type": "code",
   "execution_count": null,
   "metadata": {},
   "outputs": [],
   "source": [
    "lat, lng = ee.zcta_to_lat_long('95531')\n",
    "ranked_stations = ee.rank_stations(lat, lng, is_cz2010=True)\n",
    "station, error = ee.select_station(ranked_stations)\n",
    "start_date = datetime.datetime(2017, 1, 1, tzinfo=pytz.UTC)\n",
    "end_date = datetime.datetime(2017, 12, 31, tzinfo=pytz.UTC)\n",
    "temp_C = station.load_isd_daily_temp_data(start_date, end_date)\n",
    "temp_F = temp_C * 1.8 + 32 \n",
    "ax = temp_F.plot(figsize=(16,4))\n",
    "ax.set_ylabel('Temp (F)')\n",
    "ax.set_xlabel('Month')\n",
    "ax.set_title(\"2017 \" + station.json()['name'])\n",
    "plt.show()"
   ]
  },
  {
   "cell_type": "code",
   "execution_count": null,
   "metadata": {},
   "outputs": [],
   "source": [
    "cc_df = temp_F.to_frame(name='temp_F').head(10)\n",
    "cc_df"
   ]
  },
  {
   "cell_type": "code",
   "execution_count": null,
   "metadata": {},
   "outputs": [],
   "source": [
    "lat, lng = ee.zcta_to_lat_long('90046')\n",
    "ranked_stations = ee.rank_stations(lat, lng, is_cz2010=True)\n",
    "station, error = ee.select_station(ranked_stations)\n",
    "\n",
    "start_date = datetime.datetime(2017, 1, 1, tzinfo=pytz.UTC)\n",
    "end_date = datetime.datetime(2017, 12, 31, tzinfo=pytz.UTC)\n",
    "\n",
    "temp_C = station.load_isd_daily_temp_data(start_date, end_date)\n",
    "temp_F = temp_C * 1.8 + 32 \n",
    "\n",
    "ax = temp_F.plot(figsize=(16,4))\n",
    "ax.set_ylabel('Temp (F)')\n",
    "ax.set_xlabel('Month')\n",
    "ax.set_title(\"2017 \" + station.json()['name'])\n",
    "plt.show()"
   ]
  },
  {
   "cell_type": "code",
   "execution_count": null,
   "metadata": {},
   "outputs": [],
   "source": [
    "glendale_data = temp_F.to_frame(name='temp_f')"
   ]
  },
  {
   "cell_type": "code",
   "execution_count": null,
   "metadata": {},
   "outputs": [],
   "source": [
    "glendale_data.to_csv('burbank.csv')"
   ]
  },
  {
   "cell_type": "code",
   "execution_count": null,
   "metadata": {},
   "outputs": [],
   "source": []
  },
  {
   "cell_type": "code",
   "execution_count": null,
   "metadata": {},
   "outputs": [],
   "source": []
  },
  {
   "cell_type": "code",
   "execution_count": 1,
   "metadata": {},
   "outputs": [],
   "source": [
    "#http://eeweather.openee.io/en/latest/basics.html\n",
    "#https://github.com/openeemeter/eeweather/blob/master/scripts/tutorial.ipynb\n",
    "\n",
    "import eeweather as ee\n",
    "import json\n",
    "import datetime\n",
    "import pytz\n",
    "import numpy as np\n",
    "import matplotlib.pyplot as plt\n",
    "%matplotlib inline"
   ]
  },
  {
   "cell_type": "code",
   "execution_count": 14,
   "metadata": {},
   "outputs": [],
   "source": [
    "lat, lng = ee.zcta_to_lat_long('90274') #Converts the zip code to a geocode that is then used to request the data. \n",
    "\n",
    "ranked_stations = ee.rank_stations(lat, lng, \n",
    "                                   is_cz2010=True,\n",
    "                                   match_iecc_climate_zone=True,\n",
    "                                   match_iecc_moisture_regime=True,\n",
    "                                   match_ba_climate_zone=True,\n",
    "                                   match_ca_climate_zone=True,\n",
    "                                   minimum_quality='low')\n",
    "\n",
    "station, error = ee.select_station(ranked_stations)"
   ]
  },
  {
   "cell_type": "code",
   "execution_count": 15,
   "metadata": {},
   "outputs": [
    {
     "data": {
      "text/html": [
       "<div>\n",
       "<style scoped>\n",
       "    .dataframe tbody tr th:only-of-type {\n",
       "        vertical-align: middle;\n",
       "    }\n",
       "\n",
       "    .dataframe tbody tr th {\n",
       "        vertical-align: top;\n",
       "    }\n",
       "\n",
       "    .dataframe thead th {\n",
       "        text-align: right;\n",
       "    }\n",
       "</style>\n",
       "<table border=\"1\" class=\"dataframe\">\n",
       "  <thead>\n",
       "    <tr style=\"text-align: right;\">\n",
       "      <th></th>\n",
       "      <th>rank</th>\n",
       "      <th>distance_meters</th>\n",
       "      <th>latitude</th>\n",
       "      <th>longitude</th>\n",
       "      <th>iecc_climate_zone</th>\n",
       "      <th>iecc_moisture_regime</th>\n",
       "      <th>ba_climate_zone</th>\n",
       "      <th>ca_climate_zone</th>\n",
       "      <th>rough_quality</th>\n",
       "      <th>elevation</th>\n",
       "      <th>state</th>\n",
       "      <th>tmy3_class</th>\n",
       "      <th>is_tmy3</th>\n",
       "      <th>is_cz2010</th>\n",
       "      <th>difference_elevation_meters</th>\n",
       "    </tr>\n",
       "    <tr>\n",
       "      <th>usaf_id</th>\n",
       "      <th></th>\n",
       "      <th></th>\n",
       "      <th></th>\n",
       "      <th></th>\n",
       "      <th></th>\n",
       "      <th></th>\n",
       "      <th></th>\n",
       "      <th></th>\n",
       "      <th></th>\n",
       "      <th></th>\n",
       "      <th></th>\n",
       "      <th></th>\n",
       "      <th></th>\n",
       "      <th></th>\n",
       "      <th></th>\n",
       "    </tr>\n",
       "  </thead>\n",
       "  <tbody>\n",
       "    <tr>\n",
       "      <th>722955</th>\n",
       "      <td>1</td>\n",
       "      <td>3909.214760</td>\n",
       "      <td>33.803</td>\n",
       "      <td>-118.340</td>\n",
       "      <td>3</td>\n",
       "      <td>B</td>\n",
       "      <td>Hot-Dry</td>\n",
       "      <td>CA_06</td>\n",
       "      <td>low</td>\n",
       "      <td>29.6</td>\n",
       "      <td>CA</td>\n",
       "      <td>None</td>\n",
       "      <td>False</td>\n",
       "      <td>True</td>\n",
       "      <td>None</td>\n",
       "    </tr>\n",
       "    <tr>\n",
       "      <th>722950</th>\n",
       "      <td>2</td>\n",
       "      <td>17913.386173</td>\n",
       "      <td>33.938</td>\n",
       "      <td>-118.389</td>\n",
       "      <td>3</td>\n",
       "      <td>B</td>\n",
       "      <td>Hot-Dry</td>\n",
       "      <td>CA_06</td>\n",
       "      <td>high</td>\n",
       "      <td>29.6</td>\n",
       "      <td>CA</td>\n",
       "      <td>I</td>\n",
       "      <td>True</td>\n",
       "      <td>True</td>\n",
       "      <td>None</td>\n",
       "    </tr>\n",
       "    <tr>\n",
       "      <th>722885</th>\n",
       "      <td>3</td>\n",
       "      <td>27535.139645</td>\n",
       "      <td>34.016</td>\n",
       "      <td>-118.451</td>\n",
       "      <td>3</td>\n",
       "      <td>B</td>\n",
       "      <td>Hot-Dry</td>\n",
       "      <td>CA_06</td>\n",
       "      <td>high</td>\n",
       "      <td>53.0</td>\n",
       "      <td>CA</td>\n",
       "      <td>II</td>\n",
       "      <td>True</td>\n",
       "      <td>True</td>\n",
       "      <td>None</td>\n",
       "    </tr>\n",
       "    <tr>\n",
       "      <th>722977</th>\n",
       "      <td>4</td>\n",
       "      <td>47848.818942</td>\n",
       "      <td>33.680</td>\n",
       "      <td>-117.866</td>\n",
       "      <td>3</td>\n",
       "      <td>B</td>\n",
       "      <td>Hot-Dry</td>\n",
       "      <td>CA_06</td>\n",
       "      <td>high</td>\n",
       "      <td>16.5</td>\n",
       "      <td>CA</td>\n",
       "      <td>II</td>\n",
       "      <td>True</td>\n",
       "      <td>True</td>\n",
       "      <td>None</td>\n",
       "    </tr>\n",
       "  </tbody>\n",
       "</table>\n",
       "</div>"
      ],
      "text/plain": [
       "         rank  distance_meters  latitude  longitude iecc_climate_zone  \\\n",
       "usaf_id                                                                 \n",
       "722955      1      3909.214760    33.803   -118.340                 3   \n",
       "722950      2     17913.386173    33.938   -118.389                 3   \n",
       "722885      3     27535.139645    34.016   -118.451                 3   \n",
       "722977      4     47848.818942    33.680   -117.866                 3   \n",
       "\n",
       "        iecc_moisture_regime ba_climate_zone ca_climate_zone rough_quality  \\\n",
       "usaf_id                                                                      \n",
       "722955                     B         Hot-Dry           CA_06           low   \n",
       "722950                     B         Hot-Dry           CA_06          high   \n",
       "722885                     B         Hot-Dry           CA_06          high   \n",
       "722977                     B         Hot-Dry           CA_06          high   \n",
       "\n",
       "         elevation state tmy3_class  is_tmy3  is_cz2010  \\\n",
       "usaf_id                                                   \n",
       "722955        29.6    CA       None    False       True   \n",
       "722950        29.6    CA          I     True       True   \n",
       "722885        53.0    CA         II     True       True   \n",
       "722977        16.5    CA         II     True       True   \n",
       "\n",
       "        difference_elevation_meters  \n",
       "usaf_id                              \n",
       "722955                         None  \n",
       "722950                         None  \n",
       "722885                         None  \n",
       "722977                         None  "
      ]
     },
     "execution_count": 15,
     "metadata": {},
     "output_type": "execute_result"
    }
   ],
   "source": [
    "ranked_stations.head()"
   ]
  },
  {
   "cell_type": "code",
   "execution_count": 16,
   "metadata": {},
   "outputs": [
    {
     "data": {
      "image/png": "[encoded data removed]",
      "text/plain": [
       "<Figure size 1152x576 with 1 Axes>"
      ]
     },
     "metadata": {},
     "output_type": "display_data"
    }
   ],
   "source": [
    "#Display an area map of the station and the project. Question for Phil: What does the distance_meters parameter do?\n",
    "ee.plot_station_mapping(lat, lng, station, \n",
    "                        distance_meters=20378.381033)"
   ]
  },
  {
   "cell_type": "code",
   "execution_count": 17,
   "metadata": {},
   "outputs": [
    {
     "data": {
      "text/plain": [
       "ISDStation('722955')"
      ]
     },
     "execution_count": 17,
     "metadata": {},
     "output_type": "execute_result"
    }
   ],
   "source": [
    "#ISD Station ID.\n",
    "station"
   ]
  },
  {
   "cell_type": "code",
   "execution_count": 18,
   "metadata": {},
   "outputs": [
    {
     "name": "stdout",
     "output_type": "stream",
     "text": [
      "{\n",
      "  \"elevation\": 29.6,\n",
      "  \"latitude\": 33.803,\n",
      "  \"longitude\": -118.34,\n",
      "  \"icao_code\": \"KTOA\",\n",
      "  \"name\": \"ZAMPERINI FIELD AIRPORT\",\n",
      "  \"quality\": \"low\",\n",
      "  \"wban_ids\": [\n",
      "    \"03122\",\n",
      "    \"03174\",\n",
      "    \"99999\"\n",
      "  ],\n",
      "  \"recent_wban_id\": \"03174\",\n",
      "  \"climate_zones\": {\n",
      "    \"iecc_climate_zone\": \"3\",\n",
      "    \"iecc_moisture_regime\": \"B\",\n",
      "    \"ba_climate_zone\": \"Hot-Dry\",\n",
      "    \"ca_climate_zone\": \"CA_06\"\n",
      "  }\n",
      "}\n"
     ]
    }
   ],
   "source": [
    "#Display contents of the station object (as a json)\n",
    "print(json.dumps(station.json(), indent=2))"
   ]
  },
  {
   "cell_type": "code",
   "execution_count": 55,
   "metadata": {},
   "outputs": [
    {
     "data": {
      "image/png": "[encoded data removed]",
      "text/plain": [
       "<Figure size 1152x288 with 1 Axes>"
      ]
     },
     "metadata": {},
     "output_type": "display_data"
    }
   ],
   "source": [
    "#Retrieve hourly temperature data from the selected station.\n",
    "start_date = datetime.datetime(2017, 1, 1, tzinfo=pytz.UTC)\n",
    "end_date = datetime.datetime(2017, 12, 31, tzinfo=pytz.UTC)\n",
    "\n",
    "temp_C_hourly = station.load_cz2010_hourly_temp_data(start_date, \n",
    "                                                     end_date)\n",
    "temp_F_hourly = temp_C_hourly * 1.8 + 32 \n",
    "\n",
    "ax = temp_F_hourly.plot(figsize=(16,4))\n",
    "ax.set_ylabel('Temp (F)')\n",
    "ax.set_xlabel('Month (Hourly Data)')\n",
    "ax.set_title(\"CY2017 \" + station.json()['name'] + '/' + station.json()['icao_code'] + ' (Hourly Data)')\n",
    "plt.axhline(y=61.48, color='b', linestyle='-')\n",
    "plt.show()"
   ]
  },
  {
   "cell_type": "code",
   "execution_count": 56,
   "metadata": {},
   "outputs": [
    {
     "data": {
      "text/html": [
       "<div>\n",
       "<style scoped>\n",
       "    .dataframe tbody tr th:only-of-type {\n",
       "        vertical-align: middle;\n",
       "    }\n",
       "\n",
       "    .dataframe tbody tr th {\n",
       "        vertical-align: top;\n",
       "    }\n",
       "\n",
       "    .dataframe thead th {\n",
       "        text-align: right;\n",
       "    }\n",
       "</style>\n",
       "<table border=\"1\" class=\"dataframe\">\n",
       "  <thead>\n",
       "    <tr style=\"text-align: right;\">\n",
       "      <th></th>\n",
       "      <th>temp_f</th>\n",
       "    </tr>\n",
       "  </thead>\n",
       "  <tbody>\n",
       "    <tr>\n",
       "      <th>2017-02-07 10:00:00+00:00</th>\n",
       "      <td>40.10</td>\n",
       "    </tr>\n",
       "    <tr>\n",
       "      <th>2017-02-21 01:00:00+00:00</th>\n",
       "      <td>64.40</td>\n",
       "    </tr>\n",
       "    <tr>\n",
       "      <th>2017-05-17 01:00:00+00:00</th>\n",
       "      <td>66.92</td>\n",
       "    </tr>\n",
       "    <tr>\n",
       "      <th>2017-10-12 03:00:00+00:00</th>\n",
       "      <td>60.80</td>\n",
       "    </tr>\n",
       "    <tr>\n",
       "      <th>2017-07-19 12:00:00+00:00</th>\n",
       "      <td>66.02</td>\n",
       "    </tr>\n",
       "    <tr>\n",
       "      <th>2017-05-09 21:00:00+00:00</th>\n",
       "      <td>64.04</td>\n",
       "    </tr>\n",
       "    <tr>\n",
       "      <th>2017-03-21 07:00:00+00:00</th>\n",
       "      <td>57.02</td>\n",
       "    </tr>\n",
       "    <tr>\n",
       "      <th>2017-02-07 00:00:00+00:00</th>\n",
       "      <td>64.40</td>\n",
       "    </tr>\n",
       "    <tr>\n",
       "      <th>2017-01-10 15:00:00+00:00</th>\n",
       "      <td>48.20</td>\n",
       "    </tr>\n",
       "  </tbody>\n",
       "</table>\n",
       "</div>"
      ],
      "text/plain": [
       "                           temp_f\n",
       "2017-02-07 10:00:00+00:00   40.10\n",
       "2017-02-21 01:00:00+00:00   64.40\n",
       "2017-05-17 01:00:00+00:00   66.92\n",
       "2017-10-12 03:00:00+00:00   60.80\n",
       "2017-07-19 12:00:00+00:00   66.02\n",
       "2017-05-09 21:00:00+00:00   64.04\n",
       "2017-03-21 07:00:00+00:00   57.02\n",
       "2017-02-07 00:00:00+00:00   64.40\n",
       "2017-01-10 15:00:00+00:00   48.20"
      ]
     },
     "execution_count": 56,
     "metadata": {},
     "output_type": "execute_result"
    }
   ],
   "source": [
    "#Convert the pandas series to a dataframe and display a sample of the entire dataset.\n",
    "#Temperature value are displayed in degrees fahrenheit.\n",
    "hr_temp_f = temp_F_hourly.to_frame(name='temp_f')\n",
    "hr_temp_f.sample(frac=0.001)"
   ]
  },
  {
   "cell_type": "code",
   "execution_count": 60,
   "metadata": {},
   "outputs": [
    {
     "data": {
      "text/html": [
       "<div>\n",
       "<style scoped>\n",
       "    .dataframe tbody tr th:only-of-type {\n",
       "        vertical-align: middle;\n",
       "    }\n",
       "\n",
       "    .dataframe tbody tr th {\n",
       "        vertical-align: top;\n",
       "    }\n",
       "\n",
       "    .dataframe thead th {\n",
       "        text-align: right;\n",
       "    }\n",
       "</style>\n",
       "<table border=\"1\" class=\"dataframe\">\n",
       "  <thead>\n",
       "    <tr style=\"text-align: right;\">\n",
       "      <th></th>\n",
       "      <th>temp_f</th>\n",
       "    </tr>\n",
       "  </thead>\n",
       "  <tbody>\n",
       "    <tr>\n",
       "      <th>2017-01-01 00:00:00+00:00</th>\n",
       "      <td>56.48</td>\n",
       "    </tr>\n",
       "    <tr>\n",
       "      <th>2017-01-01 01:00:00+00:00</th>\n",
       "      <td>54.14</td>\n",
       "    </tr>\n",
       "    <tr>\n",
       "      <th>2017-01-01 02:00:00+00:00</th>\n",
       "      <td>51.62</td>\n",
       "    </tr>\n",
       "    <tr>\n",
       "      <th>2017-01-01 03:00:00+00:00</th>\n",
       "      <td>48.92</td>\n",
       "    </tr>\n",
       "    <tr>\n",
       "      <th>2017-01-01 04:00:00+00:00</th>\n",
       "      <td>46.40</td>\n",
       "    </tr>\n",
       "  </tbody>\n",
       "</table>\n",
       "</div>"
      ],
      "text/plain": [
       "                           temp_f\n",
       "2017-01-01 00:00:00+00:00   56.48\n",
       "2017-01-01 01:00:00+00:00   54.14\n",
       "2017-01-01 02:00:00+00:00   51.62\n",
       "2017-01-01 03:00:00+00:00   48.92\n",
       "2017-01-01 04:00:00+00:00   46.40"
      ]
     },
     "execution_count": 60,
     "metadata": {},
     "output_type": "execute_result"
    }
   ],
   "source": [
    "hr_temp_f.head()"
   ]
  },
  {
   "cell_type": "code",
   "execution_count": 57,
   "metadata": {},
   "outputs": [
    {
     "data": {
      "text/plain": [
       "61.47799244591977"
      ]
     },
     "execution_count": 57,
     "metadata": {},
     "output_type": "execute_result"
    }
   ],
   "source": [
    "hr_temp_f['temp_f'].mean()"
   ]
  },
  {
   "cell_type": "code",
   "execution_count": 58,
   "metadata": {},
   "outputs": [
    {
     "data": {
      "text/plain": [
       "(8737, 1)"
      ]
     },
     "execution_count": 58,
     "metadata": {},
     "output_type": "execute_result"
    }
   ],
   "source": [
    "hr_temp_f.shape"
   ]
  },
  {
   "cell_type": "code",
   "execution_count": 59,
   "metadata": {},
   "outputs": [
    {
     "name": "stdout",
     "output_type": "stream",
     "text": [
      "The dataset contains: 8737 hourly data points.\n",
      "There are a total of 23 hourly data points that are missing from the dataset.\n"
     ]
    }
   ],
   "source": [
    "#Determine number of points in the data set. 2017 was not a leap year and so there are a total of 8,760 hours in the year. \n",
    "print('The dataset contains: {} hourly data points.'.format(hr_temp_f.shape[0]))\n",
    "print('There are a total of {} hourly data points that are missing from the dataset.'.format(8760-hr_temp_f.shape[0]))"
   ]
  },
  {
   "cell_type": "code",
   "execution_count": 11,
   "metadata": {},
   "outputs": [],
   "source": [
    "#Export dataframe to CSV file. \n",
    "glendale_hr_temp_f.to_csv('export/glendale_hourly.csv')"
   ]
  },
  {
   "cell_type": "code",
   "execution_count": null,
   "metadata": {},
   "outputs": [],
   "source": []
  }
 ],
 "metadata": {
  "kernelspec": {
   "display_name": "Python 3",
   "language": "python",
   "name": "python3"
  },
  "language_info": {
   "codemirror_mode": {
    "name": "ipython",
    "version": 3
   },
   "file_extension": ".py",
   "mimetype": "text/x-python",
   "name": "python",
   "nbconvert_exporter": "python",
   "pygments_lexer": "ipython3",
   "version": "3.6.5"
  }
 },
 "nbformat": 4,
 "nbformat_minor": 2
}

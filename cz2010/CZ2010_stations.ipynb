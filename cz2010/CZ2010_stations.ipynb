{
 "cells": [
  {
   "cell_type": "code",
   "execution_count": 2,
   "metadata": {},
   "outputs": [],
   "source": [
    "import pandas as pd\n",
    "import eeweather"
   ]
  },
  {
   "cell_type": "code",
   "execution_count": 3,
   "metadata": {},
   "outputs": [
    {
     "data": {
      "text/plain": [
       "{'elevation': 61.0,\n",
       " 'latitude': 40.978,\n",
       " 'longitude': -124.109,\n",
       " 'icao_code': 'KACV',\n",
       " 'name': 'ARCATA AIRPORT',\n",
       " 'quality': 'high',\n",
       " 'wban_ids': ['24283'],\n",
       " 'recent_wban_id': '24283',\n",
       " 'climate_zones': {'iecc_climate_zone': '4',\n",
       "  'iecc_moisture_regime': 'C',\n",
       "  'ba_climate_zone': 'Marine',\n",
       "  'ca_climate_zone': 'CA_01'}}"
      ]
     },
     "execution_count": 3,
     "metadata": {},
     "output_type": "execute_result"
    }
   ],
   "source": [
    "eeweather.ISDStation('725945', load_metadata=True).json()"
   ]
  },
  {
   "cell_type": "code",
   "execution_count": 4,
   "metadata": {},
   "outputs": [],
   "source": [
    "file = 'data\\cz2010_legend.csv'"
   ]
  },
  {
   "cell_type": "code",
   "execution_count": 5,
   "metadata": {},
   "outputs": [],
   "source": [
    "df = pd.read_csv(file)"
   ]
  },
  {
   "cell_type": "code",
   "execution_count": 12,
   "metadata": {},
   "outputs": [
    {
     "data": {
      "text/html": [
       "<div>\n",
       "<style scoped>\n",
       "    .dataframe tbody tr th:only-of-type {\n",
       "        vertical-align: middle;\n",
       "    }\n",
       "\n",
       "    .dataframe tbody tr th {\n",
       "        vertical-align: top;\n",
       "    }\n",
       "\n",
       "    .dataframe thead th {\n",
       "        text-align: right;\n",
       "    }\n",
       "</style>\n",
       "<table border=\"1\" class=\"dataframe\">\n",
       "  <thead>\n",
       "    <tr style=\"text-align: right;\">\n",
       "      <th></th>\n",
       "      <th>Station/Description</th>\n",
       "      <th>Type</th>\n",
       "      <th>WMO #</th>\n",
       "    </tr>\n",
       "  </thead>\n",
       "  <tbody>\n",
       "    <tr>\n",
       "      <th>0</th>\n",
       "      <td>Alturas</td>\n",
       "      <td>CZ2010</td>\n",
       "      <td>725958</td>\n",
       "    </tr>\n",
       "    <tr>\n",
       "      <th>1</th>\n",
       "      <td>Arcata-AP</td>\n",
       "      <td>CZ2010</td>\n",
       "      <td>725945</td>\n",
       "    </tr>\n",
       "    <tr>\n",
       "      <th>2</th>\n",
       "      <td>Bakersfield-Meadows-Fld</td>\n",
       "      <td>CZ2010</td>\n",
       "      <td>723840</td>\n",
       "    </tr>\n",
       "    <tr>\n",
       "      <th>3</th>\n",
       "      <td>Beale-AFB</td>\n",
       "      <td>CZ2010</td>\n",
       "      <td>724837</td>\n",
       "    </tr>\n",
       "    <tr>\n",
       "      <th>4</th>\n",
       "      <td>Bishop-AP</td>\n",
       "      <td>CZ2010</td>\n",
       "      <td>724800</td>\n",
       "    </tr>\n",
       "    <tr>\n",
       "      <th>5</th>\n",
       "      <td>Blue-Canyon-AP</td>\n",
       "      <td>CZ2010</td>\n",
       "      <td>725845</td>\n",
       "    </tr>\n",
       "    <tr>\n",
       "      <th>6</th>\n",
       "      <td>Blythe-Riverside-Co-AP</td>\n",
       "      <td>CZ2010</td>\n",
       "      <td>747188</td>\n",
       "    </tr>\n",
       "    <tr>\n",
       "      <th>7</th>\n",
       "      <td>Burbank-Glndle-Pasad-AP</td>\n",
       "      <td>CZ2010</td>\n",
       "      <td>722880</td>\n",
       "    </tr>\n",
       "    <tr>\n",
       "      <th>8</th>\n",
       "      <td>Camarillo(AWOS)</td>\n",
       "      <td>CZ2010</td>\n",
       "      <td>723926</td>\n",
       "    </tr>\n",
       "    <tr>\n",
       "      <th>9</th>\n",
       "      <td>Camp-Pendleton-MCAS</td>\n",
       "      <td>CZ2010</td>\n",
       "      <td>722926</td>\n",
       "    </tr>\n",
       "  </tbody>\n",
       "</table>\n",
       "</div>"
      ],
      "text/plain": [
       "       Station/Description    Type   WMO #\n",
       "0                  Alturas  CZ2010  725958\n",
       "1                Arcata-AP  CZ2010  725945\n",
       "2  Bakersfield-Meadows-Fld  CZ2010  723840\n",
       "3                Beale-AFB  CZ2010  724837\n",
       "4                Bishop-AP  CZ2010  724800\n",
       "5           Blue-Canyon-AP  CZ2010  725845\n",
       "6   Blythe-Riverside-Co-AP  CZ2010  747188\n",
       "7  Burbank-Glndle-Pasad-AP  CZ2010  722880\n",
       "8          Camarillo(AWOS)  CZ2010  723926\n",
       "9      Camp-Pendleton-MCAS  CZ2010  722926"
      ]
     },
     "execution_count": 12,
     "metadata": {},
     "output_type": "execute_result"
    }
   ],
   "source": [
    "df.head(10)"
   ]
  },
  {
   "cell_type": "code",
   "execution_count": 43,
   "metadata": {},
   "outputs": [],
   "source": [
    "df['quality'] = ''"
   ]
  },
  {
   "cell_type": "code",
   "execution_count": 44,
   "metadata": {},
   "outputs": [
    {
     "data": {
      "text/html": [
       "<div>\n",
       "<style scoped>\n",
       "    .dataframe tbody tr th:only-of-type {\n",
       "        vertical-align: middle;\n",
       "    }\n",
       "\n",
       "    .dataframe tbody tr th {\n",
       "        vertical-align: top;\n",
       "    }\n",
       "\n",
       "    .dataframe thead th {\n",
       "        text-align: right;\n",
       "    }\n",
       "</style>\n",
       "<table border=\"1\" class=\"dataframe\">\n",
       "  <thead>\n",
       "    <tr style=\"text-align: right;\">\n",
       "      <th></th>\n",
       "      <th>Station/Description</th>\n",
       "      <th>Type</th>\n",
       "      <th>WMO #</th>\n",
       "      <th>quality</th>\n",
       "    </tr>\n",
       "  </thead>\n",
       "  <tbody>\n",
       "    <tr>\n",
       "      <th>0</th>\n",
       "      <td>Alturas</td>\n",
       "      <td>CZ2010</td>\n",
       "      <td>725958</td>\n",
       "      <td></td>\n",
       "    </tr>\n",
       "    <tr>\n",
       "      <th>1</th>\n",
       "      <td>Arcata-AP</td>\n",
       "      <td>CZ2010</td>\n",
       "      <td>725945</td>\n",
       "      <td></td>\n",
       "    </tr>\n",
       "    <tr>\n",
       "      <th>2</th>\n",
       "      <td>Bakersfield-Meadows-Fld</td>\n",
       "      <td>CZ2010</td>\n",
       "      <td>723840</td>\n",
       "      <td></td>\n",
       "    </tr>\n",
       "    <tr>\n",
       "      <th>3</th>\n",
       "      <td>Beale-AFB</td>\n",
       "      <td>CZ2010</td>\n",
       "      <td>724837</td>\n",
       "      <td></td>\n",
       "    </tr>\n",
       "    <tr>\n",
       "      <th>4</th>\n",
       "      <td>Bishop-AP</td>\n",
       "      <td>CZ2010</td>\n",
       "      <td>724800</td>\n",
       "      <td></td>\n",
       "    </tr>\n",
       "  </tbody>\n",
       "</table>\n",
       "</div>"
      ],
      "text/plain": [
       "       Station/Description    Type   WMO # quality\n",
       "0                  Alturas  CZ2010  725958        \n",
       "1                Arcata-AP  CZ2010  725945        \n",
       "2  Bakersfield-Meadows-Fld  CZ2010  723840        \n",
       "3                Beale-AFB  CZ2010  724837        \n",
       "4                Bishop-AP  CZ2010  724800        "
      ]
     },
     "execution_count": 44,
     "metadata": {},
     "output_type": "execute_result"
    }
   ],
   "source": [
    "df.head()"
   ]
  },
  {
   "cell_type": "code",
   "execution_count": 42,
   "metadata": {},
   "outputs": [
    {
     "data": {
      "text/plain": [
       "'high'"
      ]
     },
     "execution_count": 42,
     "metadata": {},
     "output_type": "execute_result"
    }
   ],
   "source": [
    "eeweather.ISDStation(str(df['WMO #'].iloc[0]), load_metadata=True).json()['quality']"
   ]
  },
  {
   "cell_type": "code",
   "execution_count": 46,
   "metadata": {},
   "outputs": [
    {
     "name": "stderr",
     "output_type": "stream",
     "text": [
      "C:\\Users\\GTAguina\\AppData\\Local\\Continuum\\anaconda3\\lib\\site-packages\\ipykernel_launcher.py:4: FutureWarning: set_value is deprecated and will be removed in a future release. Please use .at[] or .iat[] accessors instead\n",
      "  after removing the cwd from sys.path.\n"
     ]
    }
   ],
   "source": [
    "index_ =[]\n",
    "for index, row in df.iterrows():\n",
    "    try:\n",
    "        df.set_value(index, 'quality', \n",
    "                     eeweather.ISDStation(str(row['WMO #']), \n",
    "                                          load_metadata=True).json()['quality'])\n",
    "    except:\n",
    "        index_.append(row)"
   ]
  },
  {
   "cell_type": "code",
   "execution_count": 47,
   "metadata": {},
   "outputs": [
    {
     "data": {
      "text/plain": [
       "[]"
      ]
     },
     "execution_count": 47,
     "metadata": {},
     "output_type": "execute_result"
    }
   ],
   "source": [
    "index_"
   ]
  },
  {
   "cell_type": "code",
   "execution_count": 50,
   "metadata": {},
   "outputs": [
    {
     "data": {
      "text/plain": [
       "['high', 'low', 'medium']"
      ]
     },
     "execution_count": 50,
     "metadata": {},
     "output_type": "execute_result"
    }
   ],
   "source": [
    "df['quality'].unique().tolist()"
   ]
  },
  {
   "cell_type": "code",
   "execution_count": 52,
   "metadata": {},
   "outputs": [
    {
     "data": {
      "text/html": [
       "<div>\n",
       "<style scoped>\n",
       "    .dataframe tbody tr th:only-of-type {\n",
       "        vertical-align: middle;\n",
       "    }\n",
       "\n",
       "    .dataframe tbody tr th {\n",
       "        vertical-align: top;\n",
       "    }\n",
       "\n",
       "    .dataframe thead th {\n",
       "        text-align: right;\n",
       "    }\n",
       "</style>\n",
       "<table border=\"1\" class=\"dataframe\">\n",
       "  <thead>\n",
       "    <tr style=\"text-align: right;\">\n",
       "      <th></th>\n",
       "      <th>Station/Description</th>\n",
       "      <th>Type</th>\n",
       "      <th>WMO #</th>\n",
       "      <th>quality</th>\n",
       "    </tr>\n",
       "  </thead>\n",
       "  <tbody>\n",
       "    <tr>\n",
       "      <th>13</th>\n",
       "      <td>Concord-Buchanan-Field</td>\n",
       "      <td>CZ2010</td>\n",
       "      <td>724936</td>\n",
       "      <td>low</td>\n",
       "    </tr>\n",
       "    <tr>\n",
       "      <th>18</th>\n",
       "      <td>Eureka</td>\n",
       "      <td>CZ2010</td>\n",
       "      <td>725940</td>\n",
       "      <td>low</td>\n",
       "    </tr>\n",
       "    <tr>\n",
       "      <th>21</th>\n",
       "      <td>Hayward-Air-Term</td>\n",
       "      <td>CZ2010</td>\n",
       "      <td>724935</td>\n",
       "      <td>low</td>\n",
       "    </tr>\n",
       "    <tr>\n",
       "      <th>24</th>\n",
       "      <td>Inyokern</td>\n",
       "      <td>CZ2010</td>\n",
       "      <td>723826</td>\n",
       "      <td>low</td>\n",
       "    </tr>\n",
       "    <tr>\n",
       "      <th>48</th>\n",
       "      <td>Palo-Alto-AP</td>\n",
       "      <td>CZ2010</td>\n",
       "      <td>724937</td>\n",
       "      <td>low</td>\n",
       "    </tr>\n",
       "    <tr>\n",
       "      <th>58</th>\n",
       "      <td>Salinas-Muni-AP</td>\n",
       "      <td>CZ2010</td>\n",
       "      <td>724917</td>\n",
       "      <td>low</td>\n",
       "    </tr>\n",
       "    <tr>\n",
       "      <th>60</th>\n",
       "      <td>San-Clemente-Is-NAAS</td>\n",
       "      <td>CZ2010</td>\n",
       "      <td>722925</td>\n",
       "      <td>low</td>\n",
       "    </tr>\n",
       "    <tr>\n",
       "      <th>61</th>\n",
       "      <td>San-Diego-Gillespie</td>\n",
       "      <td>CZ2010</td>\n",
       "      <td>722907</td>\n",
       "      <td>low</td>\n",
       "    </tr>\n",
       "    <tr>\n",
       "      <th>77</th>\n",
       "      <td>Torrance-Muni-AP</td>\n",
       "      <td>CZ2010</td>\n",
       "      <td>722955</td>\n",
       "      <td>low</td>\n",
       "    </tr>\n",
       "  </tbody>\n",
       "</table>\n",
       "</div>"
      ],
      "text/plain": [
       "       Station/Description    Type   WMO # quality\n",
       "13  Concord-Buchanan-Field  CZ2010  724936     low\n",
       "18                  Eureka  CZ2010  725940     low\n",
       "21        Hayward-Air-Term  CZ2010  724935     low\n",
       "24                Inyokern  CZ2010  723826     low\n",
       "48            Palo-Alto-AP  CZ2010  724937     low\n",
       "58         Salinas-Muni-AP  CZ2010  724917     low\n",
       "60    San-Clemente-Is-NAAS  CZ2010  722925     low\n",
       "61     San-Diego-Gillespie  CZ2010  722907     low\n",
       "77        Torrance-Muni-AP  CZ2010  722955     low"
      ]
     },
     "execution_count": 52,
     "metadata": {},
     "output_type": "execute_result"
    }
   ],
   "source": [
    "df[df['quality'] == 'low']"
   ]
  },
  {
   "cell_type": "code",
   "execution_count": 57,
   "metadata": {},
   "outputs": [
    {
     "data": {
      "text/html": [
       "<div>\n",
       "<style scoped>\n",
       "    .dataframe tbody tr th:only-of-type {\n",
       "        vertical-align: middle;\n",
       "    }\n",
       "\n",
       "    .dataframe tbody tr th {\n",
       "        vertical-align: top;\n",
       "    }\n",
       "\n",
       "    .dataframe thead th {\n",
       "        text-align: right;\n",
       "    }\n",
       "</style>\n",
       "<table border=\"1\" class=\"dataframe\">\n",
       "  <thead>\n",
       "    <tr style=\"text-align: right;\">\n",
       "      <th></th>\n",
       "      <th>Station/Description</th>\n",
       "      <th>Type</th>\n",
       "      <th>WMO #</th>\n",
       "      <th>quality</th>\n",
       "    </tr>\n",
       "  </thead>\n",
       "  <tbody>\n",
       "    <tr>\n",
       "      <th>30</th>\n",
       "      <td>Lompoc(AWOS)</td>\n",
       "      <td>CZ2010</td>\n",
       "      <td>722895</td>\n",
       "      <td>medium</td>\n",
       "    </tr>\n",
       "    <tr>\n",
       "      <th>67</th>\n",
       "      <td>San-Jose-Reid-Hillv</td>\n",
       "      <td>CZ2010</td>\n",
       "      <td>724946</td>\n",
       "      <td>medium</td>\n",
       "    </tr>\n",
       "  </tbody>\n",
       "</table>\n",
       "</div>"
      ],
      "text/plain": [
       "    Station/Description    Type   WMO # quality\n",
       "30         Lompoc(AWOS)  CZ2010  722895  medium\n",
       "67  San-Jose-Reid-Hillv  CZ2010  724946  medium"
      ]
     },
     "execution_count": 57,
     "metadata": {},
     "output_type": "execute_result"
    }
   ],
   "source": [
    "df[df['quality'] == 'medium']"
   ]
  },
  {
   "cell_type": "code",
   "execution_count": 56,
   "metadata": {},
   "outputs": [
    {
     "data": {
      "text/plain": [
       "Station/Description    False\n",
       "Type                   False\n",
       "WMO #                  False\n",
       "quality                False\n",
       "dtype: bool"
      ]
     },
     "execution_count": 56,
     "metadata": {},
     "output_type": "execute_result"
    }
   ],
   "source": [
    "df.isnull().any()"
   ]
  },
  {
   "cell_type": "code",
   "execution_count": null,
   "metadata": {},
   "outputs": [],
   "source": []
  },
  {
   "cell_type": "code",
   "execution_count": null,
   "metadata": {},
   "outputs": [],
   "source": []
  },
  {
   "cell_type": "code",
   "execution_count": 19,
   "metadata": {},
   "outputs": [
    {
     "name": "stdout",
     "output_type": "stream",
     "text": [
      "<class 'pandas.core.frame.DataFrame'>\n",
      "RangeIndex: 86 entries, 0 to 85\n",
      "Data columns (total 3 columns):\n",
      "Station/Description    86 non-null object\n",
      "Type                   86 non-null object\n",
      "WMO #                  86 non-null int64\n",
      "dtypes: int64(1), object(2)\n",
      "memory usage: 2.1+ KB\n"
     ]
    }
   ],
   "source": [
    "df.info()"
   ]
  },
  {
   "cell_type": "code",
   "execution_count": 13,
   "metadata": {},
   "outputs": [],
   "source": [
    "CZ2010_LIST = [\n",
    "    '725958', '725945', '723840', '724837', '724800', '725845', '747188',\n",
    "    '722880', '723926', '722926', '722927', '746120', '722899', '724936',\n",
    "    '725946', '723815', '723810', '722810', '725940', '723890', '722976',\n",
    "    '724935', '747185', '722909', '723826', '722956', '725847', '723816',\n",
    "    '747020', '724927', '722895', '722970', '722975', '722874', '722950',\n",
    "    '724815', '724926', '722953', '725955', '724915', '725957', '724955',\n",
    "    '723805', '724930', '723927', '722868', '747187', '723820', '724937',\n",
    "    '723965', '723910', '723895', '725910', '725920', '722860', '722869',\n",
    "    '724830', '724839', '724917', '724938', '722925', '722907', '722900',\n",
    "    '722903', '722906', '724940', '724945', '724946', '722897', '722910',\n",
    "    '723830', '722977', '723925', '723940', '722885', '724957', '724920',\n",
    "    '722955', '745160', '725846', '690150', '725905', '722886', '723930',\n",
    "    '723896', '724838']\n",
    "\n",
    "cz_name_list = ['from_cz_list' for each in range(0, 86)]"
   ]
  },
  {
   "cell_type": "code",
   "execution_count": 27,
   "metadata": {},
   "outputs": [],
   "source": [
    "dict_ = {'WMO #': CZ2010_LIST,\n",
    "        'i_cz_name_list': cz_name_list}\n",
    "df_cz = pd.DataFrame.from_dict(dict_)"
   ]
  },
  {
   "cell_type": "code",
   "execution_count": 29,
   "metadata": {},
   "outputs": [
    {
     "data": {
      "text/html": [
       "<div>\n",
       "<style scoped>\n",
       "    .dataframe tbody tr th:only-of-type {\n",
       "        vertical-align: middle;\n",
       "    }\n",
       "\n",
       "    .dataframe tbody tr th {\n",
       "        vertical-align: top;\n",
       "    }\n",
       "\n",
       "    .dataframe thead th {\n",
       "        text-align: right;\n",
       "    }\n",
       "</style>\n",
       "<table border=\"1\" class=\"dataframe\">\n",
       "  <thead>\n",
       "    <tr style=\"text-align: right;\">\n",
       "      <th></th>\n",
       "      <th>WMO #</th>\n",
       "      <th>i_cz_name_list</th>\n",
       "    </tr>\n",
       "  </thead>\n",
       "  <tbody>\n",
       "    <tr>\n",
       "      <th>0</th>\n",
       "      <td>725958</td>\n",
       "      <td>from_cz_list</td>\n",
       "    </tr>\n",
       "    <tr>\n",
       "      <th>1</th>\n",
       "      <td>725945</td>\n",
       "      <td>from_cz_list</td>\n",
       "    </tr>\n",
       "    <tr>\n",
       "      <th>2</th>\n",
       "      <td>723840</td>\n",
       "      <td>from_cz_list</td>\n",
       "    </tr>\n",
       "    <tr>\n",
       "      <th>3</th>\n",
       "      <td>724837</td>\n",
       "      <td>from_cz_list</td>\n",
       "    </tr>\n",
       "    <tr>\n",
       "      <th>4</th>\n",
       "      <td>724800</td>\n",
       "      <td>from_cz_list</td>\n",
       "    </tr>\n",
       "    <tr>\n",
       "      <th>5</th>\n",
       "      <td>725845</td>\n",
       "      <td>from_cz_list</td>\n",
       "    </tr>\n",
       "    <tr>\n",
       "      <th>6</th>\n",
       "      <td>747188</td>\n",
       "      <td>from_cz_list</td>\n",
       "    </tr>\n",
       "    <tr>\n",
       "      <th>7</th>\n",
       "      <td>722880</td>\n",
       "      <td>from_cz_list</td>\n",
       "    </tr>\n",
       "    <tr>\n",
       "      <th>8</th>\n",
       "      <td>723926</td>\n",
       "      <td>from_cz_list</td>\n",
       "    </tr>\n",
       "    <tr>\n",
       "      <th>9</th>\n",
       "      <td>722926</td>\n",
       "      <td>from_cz_list</td>\n",
       "    </tr>\n",
       "  </tbody>\n",
       "</table>\n",
       "</div>"
      ],
      "text/plain": [
       "    WMO # i_cz_name_list\n",
       "0  725958   from_cz_list\n",
       "1  725945   from_cz_list\n",
       "2  723840   from_cz_list\n",
       "3  724837   from_cz_list\n",
       "4  724800   from_cz_list\n",
       "5  725845   from_cz_list\n",
       "6  747188   from_cz_list\n",
       "7  722880   from_cz_list\n",
       "8  723926   from_cz_list\n",
       "9  722926   from_cz_list"
      ]
     },
     "execution_count": 29,
     "metadata": {},
     "output_type": "execute_result"
    }
   ],
   "source": [
    "df_cz.head(10)"
   ]
  }
 ],
 "metadata": {
  "kernelspec": {
   "display_name": "Python 3",
   "language": "python",
   "name": "python3"
  },
  "language_info": {
   "codemirror_mode": {
    "name": "ipython",
    "version": 3
   },
   "file_extension": ".py",
   "mimetype": "text/x-python",
   "name": "python",
   "nbconvert_exporter": "python",
   "pygments_lexer": "ipython3",
   "version": "3.6.5"
  }
 },
 "nbformat": 4,
 "nbformat_minor": 2
}
